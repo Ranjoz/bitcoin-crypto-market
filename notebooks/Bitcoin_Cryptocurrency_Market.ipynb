{
 "cells": [
  {
   "cell_type": "markdown",
   "id": "712ae47d",
   "metadata": {},
   "source": [
    "# 🚀 Cryptocurrency Market Analysis\n",
    "## Exploring the Cryptocurrency Market: Trends, Patterns & Predictions\n",
    "\n",
    "---\n",
    "\n",
    "### 📊 Project Overview\n",
    "\n",
    "This comprehensive analysis explores the cryptocurrency market using historical price data from multiple digital currencies. Our goal is to uncover meaningful insights about market behavior, volatility patterns, correlations, and potential future trends.\n",
    "\n",
    "### 🎯 Key Questions We'll Answer\n",
    "\n",
    "1. **Historical Trends**: How have cryptocurrency prices and market caps evolved over time?\n",
    "2. **Market Dominance**: How does Bitcoin compare to other cryptocurrencies?\n",
    "3. **Volatility Analysis**: Which currencies are most/least volatile?\n",
    "4. **Correlations**: How do price movements correlate across different currencies?\n",
    "5. **Seasonal Patterns**: Are there recurring patterns in price fluctuations?\n",
    "6. **Predictions**: What are reasonable short-term price forecasts?\n",
    "\n",
    "### 📈 Dataset Information\n",
    "- **Source**: Kaggle Cryptocurrency Price History\n",
    "- **Date Range**: April 2013 to present\n",
    "- **Currencies**: 23+ major cryptocurrencies\n",
    "- **Features**: Date, Open, High, Low, Close, Volume, Market Cap\n",
    "\n",
    "---"
   ]
  },
  {
   "cell_type": "markdown",
   "id": "e532ecef",
   "metadata": {},
   "source": [
    "## 📚 Import Libraries & Setup\n",
    "\n",
    "Let's start by importing all necessary libraries for our analysis."
   ]
  },
  {
   "cell_type": "code",
   "execution_count": null,
   "id": "d800809d",
   "metadata": {},
   "outputs": [],
   "source": [
    "# Core data science libraries\n",
    "import pandas as pd\n",
    "import numpy as np\n",
    "import matplotlib.pyplot as plt\n",
    "import seaborn as sns\n",
    "import plotly.graph_objects as go\n",
    "import plotly.express as px\n",
    "from plotly.subplots import make_subplots\n",
    "\n",
    "# Statistical and ML libraries\n",
    "from scipy import stats\n",
    "from sklearn.linear_model import LinearRegression\n",
    "from sklearn.ensemble import RandomForestRegressor\n",
    "from sklearn.metrics import mean_absolute_error, mean_squared_error\n",
    "from sklearn.preprocessing import StandardScaler\n",
    "import statsmodels.api as sm\n",
    "from statsmodels.tsa.arima.model import ARIMA\n",
    "from statsmodels.tsa.seasonal import seasonal_decompose\n",
    "\n",
    "# Utility libraries\n",
    "import os\n",
    "import warnings\n",
    "from datetime import datetime, timedelta\n",
    "import sys\n",
    "\n",
    "# Add our custom modules to path\n",
    "sys.path.append('../src')\n",
    "from data_loader import load_multiple_cryptos, get_available_cryptos\n",
    "from preprocessor import preprocess_multiple_cryptos, get_common_date_range\n",
    "from analyzer import (calculate_summary_statistics, calculate_volatility_metrics, \n",
    "                     calculate_correlation_matrix, calculate_bitcoin_dominance,\n",
    "                     analyze_seasonal_patterns, compare_cryptocurrencies)\n",
    "from visualizer import (plot_price_history, plot_correlation_heatmap, \n",
    "                       plot_volatility_comparison, plot_bitcoin_dominance,\n",
    "                       plot_seasonal_patterns, create_interactive_price_chart)\n",
    "\n",
    "# Configuration\n",
    "warnings.filterwarnings('ignore')\n",
    "pd.set_option('display.max_columns', None)\n",
    "pd.set_option('display.max_rows', 100)\n",
    "plt.style.use('default')\n",
    "sns.set_palette(\"husl\")\n",
    "\n",
    "print(\"✅ All libraries imported successfully!\")\n",
    "print(f\"📦 Pandas version: {pd.__version__}\")\n",
    "print(f\"📦 NumPy version: {np.__version__}\")\n",
    "print(f\"📦 Matplotlib version: {plt.matplotlib.__version__}\")\n",
    "print(f\"📦 Seaborn version: {sns.__version__}\")"
   ]
  },
  {
   "cell_type": "markdown",
   "id": "be359605",
   "metadata": {},
   "source": [
    "## 📂 Data Loading & Initial Exploration\n",
    "\n",
    "Let's load our cryptocurrency datasets and explore what we have available."
   ]
  },
  {
   "cell_type": "code",
   "execution_count": null,
   "id": "80e1e6b8",
   "metadata": {},
   "outputs": [],
   "source": [
    "# Define data directory\n",
    "DATA_DIR = '../data/raw'\n",
    "\n",
    "# Check available cryptocurrencies\n",
    "available_cryptos = get_available_cryptos(DATA_DIR)\n",
    "print(f\"🔍 Available cryptocurrencies: {len(available_cryptos)}\")\n",
    "print(f\"📋 List: {', '.join(available_cryptos)}\")"
   ]
  },
  {
   "cell_type": "code",
   "execution_count": null,
   "id": "a992517f",
   "metadata": {},
   "outputs": [],
   "source": [
    "# Select key cryptocurrencies for analysis\n",
    "key_cryptos = [\n",
    "    'Bitcoin', 'Ethereum', 'XRP', 'Litecoin', 'Cardano',\n",
    "    'Polkadot', 'Solana', 'Dogecoin', 'BinanceCoin', 'ChainLink'\n",
    "]\n",
    "\n",
    "# Load cryptocurrency data\n",
    "print(\"📊 Loading cryptocurrency data...\")\n",
    "crypto_data = load_multiple_cryptos(DATA_DIR, key_cryptos)\n",
    "\n",
    "print(f\"\\n✅ Successfully loaded {len(crypto_data)} cryptocurrencies\")\n",
    "for name, df in crypto_data.items():\n",
    "    print(f\"  • {name}: {len(df)} records ({df.index.min().date()} to {df.index.max().date()})\")"
   ]
  },
  {
   "cell_type": "markdown",
   "id": "88b644bf",
   "metadata": {},
   "source": [
    "### 🔍 Data Structure Exploration"
   ]
  },
  {
   "cell_type": "code",
   "execution_count": null,
   "id": "7e824cca",
   "metadata": {},
   "outputs": [],
   "source": [
    "# Examine Bitcoin data structure (as our primary reference)\n",
    "if 'Bitcoin' in crypto_data:\n",
    "    btc_df = crypto_data['Bitcoin']\n",
    "    print(\"🔍 Bitcoin Data Structure:\")\n",
    "    print(f\"Shape: {btc_df.shape}\")\n",
    "    print(f\"\\nColumns: {list(btc_df.columns)}\")\n",
    "    print(f\"\\nData Types:\")\n",
    "    print(btc_df.dtypes)\n",
    "    print(f\"\\nFirst 5 rows:\")\n",
    "    display(btc_df.head())\n",
    "    print(f\"\\nLast 5 rows:\")\n",
    "    display(btc_df.tail())"
   ]
  },
  {
   "cell_type": "code",
   "execution_count": null,
   "id": "ef6c55cd",
   "metadata": {},
   "outputs": [],
   "source": [
    "# Check for missing values across all cryptocurrencies\n",
    "print(\"🔍 Missing Values Analysis:\")\n",
    "for name, df in crypto_data.items():\n",
    "    missing_count = df.isnull().sum().sum()\n",
    "    total_values = df.size\n",
    "    missing_pct = (missing_count / total_values) * 100\n",
    "    print(f\"  • {name}: {missing_count} missing values ({missing_pct:.2f}%)\")\n",
    "    \n",
    "    if missing_count > 0:\n",
    "        print(f\"    Missing by column:\")\n",
    "        missing_by_col = df.isnull().sum()\n",
    "        for col, count in missing_by_col[missing_by_col > 0].items():\n",
    "            print(f\"      - {col}: {count}\")"
   ]
  },
  {
   "cell_type": "markdown",
   "id": "10d31779",
   "metadata": {},
   "source": [
    "## 🧹 Data Preprocessing & Feature Engineering\n",
    "\n",
    "Now let's clean our data and create additional features for analysis."
   ]
  },
  {
   "cell_type": "code",
   "execution_count": null,
   "id": "e73e6b35",
   "metadata": {},
   "outputs": [],
   "source": [
    "# Preprocess all cryptocurrency data\n",
    "print(\"🧹 Starting data preprocessing...\")\n",
    "processed_crypto_data = preprocess_multiple_cryptos(crypto_data)\n",
    "\n",
    "print(f\"\\n✅ Preprocessing complete!\")\n",
    "print(f\"Example features added to Bitcoin data:\")\n",
    "if 'Bitcoin' in processed_crypto_data:\n",
    "    btc_processed = processed_crypto_data['Bitcoin']\n",
    "    feature_cols = [col for col in btc_processed.columns if col not in crypto_data['Bitcoin'].columns]\n",
    "    print(f\"New features: {feature_cols}\")\n",
    "    display(btc_processed[['Close', 'Daily_Return', 'MA30', 'Volatility_30']].head())"
   ]
  },
  {
   "cell_type": "code",
   "execution_count": null,
   "id": "397741e0",
   "metadata": {},
   "outputs": [],
   "source": [
    "# Find common date range across all cryptocurrencies\n",
    "common_start, common_end = get_common_date_range(processed_crypto_data)\n",
    "print(f\"📅 Common date range: {common_start.date()} to {common_end.date()}\")\n",
    "print(f\"📊 Total days in common range: {(common_end - common_start).days + 1}\")\n",
    "\n",
    "# Filter data to common date range\n",
    "aligned_crypto_data = {}\n",
    "for name, df in processed_crypto_data.items():\n",
    "    aligned_df = df[(df.index >= common_start) & (df.index <= common_end)]\n",
    "    aligned_crypto_data[name] = aligned_df\n",
    "    print(f\"  • {name}: {len(aligned_df)} records in common range\")"
   ]
  },
  {
   "cell_type": "markdown",
   "id": "46c4ecfe",
   "metadata": {},
   "source": [
    "## 📊 Summary Statistics & Overview\n",
    "\n",
    "Let's generate comprehensive summary statistics for all cryptocurrencies."
   ]
  },
  {
   "cell_type": "code",
   "execution_count": null,
   "id": "f35ea5f8",
   "metadata": {},
   "outputs": [],
   "source": [
    "# Generate comparison table\n",
    "comparison_table = compare_cryptocurrencies(aligned_crypto_data)\n",
    "print(\"📈 Cryptocurrency Comparison Table:\")\n",
    "display(comparison_table.round(2))"
   ]
  },
  {
   "cell_type": "code",
   "execution_count": null,
   "id": "c9c6c7d8",
   "metadata": {},
   "outputs": [],
   "source": [
    "# Detailed statistics for Bitcoin\n",
    "if 'Bitcoin' in aligned_crypto_data:\n",
    "    btc_stats = calculate_summary_statistics(aligned_crypto_data['Bitcoin'])\n",
    "    print(\"📊 Detailed Bitcoin Statistics:\")\n",
    "    display(btc_stats.round(4))"
   ]
  },
  {
   "cell_type": "markdown",
   "id": "82bea5c2",
   "metadata": {},
   "source": [
    "## 📈 Historical Trend Analysis\n",
    "\n",
    "Let's analyze the historical price trends and market evolution."
   ]
  },
  {
   "cell_type": "code",
   "execution_count": null,
   "id": "861aeff7",
   "metadata": {},
   "outputs": [],
   "source": [
    "# Plot Bitcoin price history\n",
    "if 'Bitcoin' in aligned_crypto_data:\n",
    "    plot_price_history(aligned_crypto_data['Bitcoin'], 'Bitcoin')"
   ]
  },
  {
   "cell_type": "code",
   "execution_count": null,
   "id": "e760f6f0",
   "metadata": {},
   "outputs": [],
   "source": [
    "# Plot normalized comparison of all cryptocurrencies\n",
    "from visualizer import plot_multiple_crypto_comparison\n",
    "plot_multiple_crypto_comparison(aligned_crypto_data, normalize=True)"
   ]
  },
  {
   "cell_type": "code",
   "execution_count": null,
   "id": "8173aa06",
   "metadata": {},
   "outputs": [],
   "source": [
    "# Market cap evolution\n",
    "plt.figure(figsize=(15, 8))\n",
    "for name, df in aligned_crypto_data.items():\n",
    "    if 'Market Cap' in df.columns:\n",
    "        plt.plot(df.index, df['Market Cap'], label=name, alpha=0.8)\n",
    "\n",
    "plt.title('Market Capitalization Evolution', fontsize=16, fontweight='bold')\n",
    "plt.ylabel('Market Cap (USD)', fontsize=12)\n",
    "plt.xlabel('Date', fontsize=12)\n",
    "plt.legend(bbox_to_anchor=(1.05, 1), loc='upper left')\n",
    "plt.yscale('log')\n",
    "plt.grid(True, alpha=0.3)\n",
    "plt.tight_layout()\n",
    "plt.show()"
   ]
  },
  {
   "cell_type": "markdown",
   "id": "829a64c0",
   "metadata": {},
   "source": [
    "## 👑 Bitcoin Dominance Analysis\n",
    "\n",
    "Let's analyze Bitcoin's market dominance relative to other cryptocurrencies."
   ]
  },
  {
   "cell_type": "code",
   "execution_count": null,
   "id": "9f8b727e",
   "metadata": {},
   "outputs": [],
   "source": [
    "# Calculate Bitcoin dominance\n",
    "if 'Bitcoin' in aligned_crypto_data:\n",
    "    dominance_df = calculate_bitcoin_dominance(aligned_crypto_data)\n",
    "    \n",
    "    print(f\"📊 Bitcoin Dominance Statistics:\")\n",
    "    print(f\"  • Average dominance: {dominance_df['Bitcoin_Dominance'].mean():.1f}%\")\n",
    "    print(f\"  • Maximum dominance: {dominance_df['Bitcoin_Dominance'].max():.1f}%\")\n",
    "    print(f\"  • Minimum dominance: {dominance_df['Bitcoin_Dominance'].min():.1f}%\")\n",
    "    print(f\"  • Current dominance: {dominance_df['Bitcoin_Dominance'].iloc[-1]:.1f}%\")\n",
    "    \n",
    "    # Plot Bitcoin dominance\n",
    "    plot_bitcoin_dominance(dominance_df)"
   ]
  },
  {
   "cell_type": "markdown",
   "id": "ae019c8f",
   "metadata": {},
   "source": [
    "## 📊 Volatility Analysis\n",
    "\n",
    "Let's analyze the volatility characteristics of different cryptocurrencies."
   ]
  },
  {
   "cell_type": "code",
   "execution_count": null,
   "id": "6b58e382",
   "metadata": {},
   "outputs": [],
   "source": [
    "# Calculate volatility metrics for all cryptocurrencies\n",
    "volatility_data = []\n",
    "\n",
    "for name, df in aligned_crypto_data.items():\n",
    "    if 'Daily_Return' in df.columns:\n",
    "        vol_metrics = calculate_volatility_metrics(df)\n",
    "        vol_metrics['Cryptocurrency'] = name\n",
    "        volatility_data.append(vol_metrics)\n",
    "\n",
    "volatility_df = pd.DataFrame(volatility_data).set_index('Cryptocurrency')\n",
    "volatility_df = volatility_df.sort_values('annualized_volatility', ascending=False)\n",
    "\n",
    "print(\"📊 Volatility Metrics (Annualized):\")\n",
    "display(volatility_df[['annualized_volatility', 'volatility_30d', 'volatility_90d']].round(4))"
   ]
  },
  {
   "cell_type": "code",
   "execution_count": null,
   "id": "c1427694",
   "metadata": {},
   "outputs": [],
   "source": [
    "# Plot volatility comparison\n",
    "plot_volatility_comparison(aligned_crypto_data)"
   ]
  },
  {
   "cell_type": "code",
   "execution_count": null,
   "id": "1b35298c",
   "metadata": {},
   "outputs": [],
   "source": [
    "# Volatility over time for Bitcoin\n",
    "if 'Bitcoin' in aligned_crypto_data:\n",
    "    btc_df = aligned_crypto_data['Bitcoin']\n",
    "    \n",
    "    plt.figure(figsize=(15, 8))\n",
    "    plt.plot(btc_df.index, btc_df['Volatility_30'] * 100, label='30-day Volatility', alpha=0.8)\n",
    "    plt.plot(btc_df.index, btc_df['Volatility_90'] * 100, label='90-day Volatility', alpha=0.8)\n",
    "    \n",
    "    plt.title('Bitcoin Volatility Over Time', fontsize=16, fontweight='bold')\n",
    "    plt.ylabel('Volatility (%)', fontsize=12)\n",
    "    plt.xlabel('Date', fontsize=12)\n",
    "    plt.legend()\n",
    "    plt.grid(True, alpha=0.3)\n",
    "    plt.tight_layout()\n",
    "    plt.show()"
   ]
  },
  {
   "cell_type": "markdown",
   "id": "1920070e",
   "metadata": {},
   "source": [
    "## 🔗 Correlation Analysis\n",
    "\n",
    "Let's examine the correlations between different cryptocurrencies."
   ]
  },
  {
   "cell_type": "code",
   "execution_count": null,
   "id": "8ab5a11b",
   "metadata": {},
   "outputs": [],
   "source": [
    "# Calculate correlation matrix for closing prices\n",
    "price_corr_matrix = calculate_correlation_matrix(aligned_crypto_data, 'Close')\n",
    "print(\"📊 Price Correlation Matrix:\")\n",
    "display(price_corr_matrix.round(3))\n",
    "\n",
    "# Plot correlation heatmap\n",
    "plot_correlation_heatmap(price_corr_matrix)"
   ]
  },
  {
   "cell_type": "code",
   "execution_count": null,
   "id": "1a2b5e26",
   "metadata": {},
   "outputs": [],
   "source": [
    "# Calculate correlation matrix for returns (more stationary)\n",
    "return_corr_matrix = calculate_correlation_matrix(aligned_crypto_data, 'Daily_Return')\n",
    "print(\"📊 Returns Correlation Matrix:\")\n",
    "display(return_corr_matrix.round(3))\n",
    "\n",
    "# Plot returns correlation heatmap\n",
    "plot_correlation_heatmap(return_corr_matrix)"
   ]
  },
  {
   "cell_type": "code",
   "execution_count": null,
   "id": "bb74a355",
   "metadata": {},
   "outputs": [],
   "source": [
    "# Bitcoin correlation analysis\n",
    "if 'Bitcoin' in return_corr_matrix.index:\n",
    "    btc_correlations = return_corr_matrix['Bitcoin'].sort_values(ascending=False)\n",
    "    btc_correlations = btc_correlations[btc_correlations.index != 'Bitcoin']\n",
    "    \n",
    "    print(\"📊 Correlation with Bitcoin (Daily Returns):\")\n",
    "    display(btc_correlations.round(3))\n",
    "    \n",
    "    # Plot Bitcoin correlations\n",
    "    plt.figure(figsize=(12, 8))\n",
    "    bars = plt.barh(range(len(btc_correlations)), btc_correlations.values)\n",
    "    plt.yticks(range(len(btc_correlations)), btc_correlations.index)\n",
    "    plt.xlabel('Correlation with Bitcoin', fontsize=12)\n",
    "    plt.title('Cryptocurrency Correlations with Bitcoin', fontsize=16, fontweight='bold')\n",
    "    plt.grid(True, alpha=0.3, axis='x')\n",
    "    \n",
    "    # Color bars based on correlation strength\n",
    "    colors = ['green' if x > 0.5 else 'orange' if x > 0.3 else 'red' for x in btc_correlations.values]\n",
    "    for bar, color in zip(bars, colors):\n",
    "        bar.set_color(color)\n",
    "    \n",
    "    plt.tight_layout()\n",
    "    plt.show()"
   ]
  },
  {
   "cell_type": "markdown",
   "id": "1225fa0c",
   "metadata": {},
   "source": [
    "## 🌊 Seasonal Pattern Analysis\n",
    "\n",
    "Let's investigate seasonal patterns in cryptocurrency returns."
   ]
  },
  {
   "cell_type": "code",
   "execution_count": null,
   "id": "0be97102",
   "metadata": {},
   "outputs": [],
   "source": [
    "# Seasonal analysis for Bitcoin\n",
    "if 'Bitcoin' in aligned_crypto_data:\n",
    "    btc_seasonal = analyze_seasonal_patterns(aligned_crypto_data['Bitcoin'], 'Daily_Return')\n",
    "    \n",
    "    print(\"📊 Bitcoin Seasonal Patterns:\")\n",
    "    \n",
    "    # Monthly patterns\n",
    "    print(\"\\n🗓️ Monthly Returns:\")\n",
    "    monthly_returns = btc_seasonal['monthly']['mean'] * 100\n",
    "    for month, ret in monthly_returns.items():\n",
    "        month_names = ['Jan', 'Feb', 'Mar', 'Apr', 'May', 'Jun',\n",
    "                      'Jul', 'Aug', 'Sep', 'Oct', 'Nov', 'Dec']\n",
    "        print(f\"  {month_names[month-1]}: {ret:.3f}%\")\n",
    "    \n",
    "    # Plot seasonal patterns\n",
    "    plot_seasonal_patterns(btc_seasonal, 'monthly')"
   ]
  },
  {
   "cell_type": "code",
   "execution_count": null,
   "id": "eb67cbdb",
   "metadata": {},
   "outputs": [],
   "source": [
    "# Day of week analysis\n",
    "if 'Bitcoin' in aligned_crypto_data:\n",
    "    plot_seasonal_patterns(btc_seasonal, 'day_of_week')\n",
    "    \n",
    "    print(\"\\n📅 Day of Week Returns:\")\n",
    "    dow_returns = btc_seasonal['day_of_week']['mean'] * 100\n",
    "    dow_names = ['Monday', 'Tuesday', 'Wednesday', 'Thursday', 'Friday', 'Saturday', 'Sunday']\n",
    "    for dow, ret in dow_returns.items():\n",
    "        print(f\"  {dow_names[dow]}: {ret:.3f}%\")"
   ]
  },
  {
   "cell_type": "markdown",
   "id": "a436fa9d",
   "metadata": {},
   "source": [
    "## 🔮 Predictive Modeling\n",
    "\n",
    "Let's build some predictive models for Bitcoin price forecasting."
   ]
  },
  {
   "cell_type": "code",
   "execution_count": null,
   "id": "643dc8a2",
   "metadata": {},
   "outputs": [],
   "source": [
    "# Prepare data for modeling (using Bitcoin)\n",
    "if 'Bitcoin' in aligned_crypto_data:\n",
    "    btc_model_data = aligned_crypto_data['Bitcoin'].copy()\n",
    "    \n",
    "    # Create lagged features\n",
    "    for lag in [1, 7, 30]:\n",
    "        btc_model_data[f'Close_lag_{lag}'] = btc_model_data['Close'].shift(lag)\n",
    "        btc_model_data[f'Return_lag_{lag}'] = btc_model_data['Daily_Return'].shift(lag)\n",
    "    \n",
    "    # Drop rows with NaN values\n",
    "    btc_model_data = btc_model_data.dropna()\n",
    "    \n",
    "    # Define features and target\n",
    "    feature_cols = ['Open', 'High', 'Low', 'Volume', 'MA7', 'MA30', \n",
    "                   'Volatility_30', 'Close_lag_1', 'Close_lag_7', 'Close_lag_30']\n",
    "    \n",
    "    X = btc_model_data[feature_cols]\n",
    "    y = btc_model_data['Close']\n",
    "    \n",
    "    print(f\"📊 Model data prepared:\")\n",
    "    print(f\"  • Features: {len(feature_cols)}\")\n",
    "    print(f\"  • Samples: {len(X)}\")\n",
    "    print(f\"  • Date range: {X.index.min().date()} to {X.index.max().date()}\")"
   ]
  },
  {
   "cell_type": "code",
   "execution_count": null,
   "id": "750780d7",
   "metadata": {},
   "outputs": [],
   "source": [
    "# Train-test split (80-20)\n",
    "split_date = X.index[int(len(X) * 0.8)]\n",
    "X_train = X[X.index <= split_date]\n",
    "X_test = X[X.index > split_date]\n",
    "y_train = y[y.index <= split_date]\n",
    "y_test = y[y.index > split_date]\n",
    "\n",
    "print(f\"📊 Train-Test Split:\")\n",
    "print(f\"  • Training: {len(X_train)} samples ({X_train.index.min().date()} to {X_train.index.max().date()})\")\n",
    "print(f\"  • Testing: {len(X_test)} samples ({X_test.index.min().date()} to {X_test.index.max().date()})\")\n",
    "\n",
    "# Scale features\n",
    "scaler = StandardScaler()\n",
    "X_train_scaled = scaler.fit_transform(X_train)\n",
    "X_test_scaled = scaler.transform(X_test)"
   ]
  },
  {
   "cell_type": "code",
   "execution_count": null,
   "id": "bb8f7c0a",
   "metadata": {},
   "outputs": [],
   "source": [
    "# Train models\n",
    "models = {}\n",
    "predictions = {}\n",
    "\n",
    "# Linear Regression\n",
    "lr_model = LinearRegression()\n",
    "lr_model.fit(X_train_scaled, y_train)\n",
    "models['Linear Regression'] = lr_model\n",
    "predictions['Linear Regression'] = lr_model.predict(X_test_scaled)\n",
    "\n",
    "# Random Forest\n",
    "rf_model = RandomForestRegressor(n_estimators=100, random_state=42)\n",
    "rf_model.fit(X_train, y_train)  # RF doesn't need scaling\n",
    "models['Random Forest'] = rf_model\n",
    "predictions['Random Forest'] = rf_model.predict(X_test)\n",
    "\n",
    "# Baseline (persistence model)\n",
    "baseline_pred = y_test.shift(1).fillna(method='ffill')\n",
    "predictions['Baseline (Persistence)'] = baseline_pred.values\n",
    "\n",
    "print(\"✅ Models trained successfully!\")"
   ]
  },
  {
   "cell_type": "code",
   "execution_count": null,
   "id": "fd2ac95f",
   "metadata": {},
   "outputs": [],
   "source": [
    "# Evaluate models\n",
    "evaluation_results = []\n",
    "\n",
    "for model_name, pred in predictions.items():\n",
    "    # Handle NaN values\n",
    "    valid_idx = ~np.isnan(pred)\n",
    "    y_true = y_test.values[valid_idx]\n",
    "    y_pred = pred[valid_idx]\n",
    "    \n",
    "    mae = mean_absolute_error(y_true, y_pred)\n",
    "    rmse = np.sqrt(mean_squared_error(y_true, y_pred))\n",
    "    mape = np.mean(np.abs((y_true - y_pred) / y_true)) * 100\n",
    "    \n",
    "    evaluation_results.append({\n",
    "        'Model': model_name,\n",
    "        'MAE': mae,\n",
    "        'RMSE': rmse,\n",
    "        'MAPE (%)': mape\n",
    "    })\n",
    "\n",
    "eval_df = pd.DataFrame(evaluation_results)\n",
    "print(\"📊 Model Evaluation Results:\")\n",
    "display(eval_df.round(2))"
   ]
  },
  {
   "cell_type": "code",
   "execution_count": null,
   "id": "7f8c8c7a",
   "metadata": {},
   "outputs": [],
   "source": [
    "# Plot predictions vs actual\n",
    "plt.figure(figsize=(15, 10))\n",
    "\n",
    "# Plot actual values\n",
    "plt.plot(y_test.index, y_test.values, label='Actual', color='black', linewidth=2)\n",
    "\n",
    "# Plot predictions\n",
    "colors = ['red', 'blue', 'green']\n",
    "for i, (model_name, pred) in enumerate(predictions.items()):\n",
    "    plt.plot(y_test.index, pred, label=model_name, color=colors[i], alpha=0.7)\n",
    "\n",
    "plt.title('Bitcoin Price Predictions vs Actual', fontsize=16, fontweight='bold')\n",
    "plt.ylabel('Price (USD)', fontsize=12)\n",
    "plt.xlabel('Date', fontsize=12)\n",
    "plt.legend()\n",
    "plt.grid(True, alpha=0.3)\n",
    "plt.tight_layout()\n",
    "plt.show()"
   ]
  },
  {
   "cell_type": "markdown",
   "id": "9e091411",
   "metadata": {},
   "source": [
    "## 🎯 Interactive Visualizations\n",
    "\n",
    "Let's create some interactive visualizations for better exploration."
   ]
  },
  {
   "cell_type": "code",
   "execution_count": null,
   "id": "9124bce4",
   "metadata": {},
   "outputs": [],
   "source": [
    "# Create interactive Bitcoin price chart\n",
    "if 'Bitcoin' in aligned_crypto_data:\n",
    "    btc_interactive = create_interactive_price_chart(aligned_crypto_data['Bitcoin'], 'Bitcoin')\n",
    "    btc_interactive.show()"
   ]
  },
  {
   "cell_type": "code",
   "execution_count": null,
   "id": "cdc49355",
   "metadata": {},
   "outputs": [],
   "source": [
    "# Interactive correlation heatmap\n",
    "fig = px.imshow(return_corr_matrix, \n",
    "                title=\"Interactive Cryptocurrency Returns Correlation Matrix\",\n",
    "                color_continuous_scale='RdBu',\n",
    "                aspect='auto')\n",
    "fig.update_layout(height=600)\n",
    "fig.show()"
   ]
  },
  {
   "cell_type": "code",
   "execution_count": null,
   "id": "6e181ddf",
   "metadata": {},
   "outputs": [],
   "source": [
    "# Interactive volatility comparison\n",
    "vol_data = []\n",
    "for name, df in aligned_crypto_data.items():\n",
    "    if 'Daily_Return' in df.columns:\n",
    "        vol = df['Daily_Return'].std() * np.sqrt(252) * 100\n",
    "        vol_data.append({'Cryptocurrency': name, 'Volatility': vol})\n",
    "\n",
    "vol_df = pd.DataFrame(vol_data)\n",
    "vol_df = vol_df.sort_values('Volatility')\n",
    "\n",
    "fig = px.bar(vol_df, x='Volatility', y='Cryptocurrency', \n",
    "             orientation='h',\n",
    "             title='Interactive Cryptocurrency Volatility Comparison',\n",
    "             labels={'Volatility': 'Annualized Volatility (%)'},\n",
    "             color='Volatility',\n",
    "             color_continuous_scale='RdYlGn_r')\n",
    "\n",
    "fig.update_layout(height=600)\n",
    "fig.show()"
   ]
  },
  {
   "cell_type": "markdown",
   "id": "547131c4",
   "metadata": {},
   "source": [
    "## 💡 Key Insights & Conclusions\n",
    "\n",
    "Based on our comprehensive analysis, here are the key insights discovered:"
   ]
  },
  {
   "cell_type": "code",
   "execution_count": null,
   "id": "69db52a4",
   "metadata": {},
   "outputs": [],
   "source": [
    "# Generate summary insights\n",
    "print(\"🎯 KEY INSIGHTS FROM CRYPTOCURRENCY MARKET ANALYSIS\")\n",
    "print(\"=\" * 60)\n",
    "\n",
    "# 1. Performance insights\n",
    "if not comparison_table.empty:\n",
    "    best_performer = comparison_table['Total_Return'].idxmax()\n",
    "    worst_performer = comparison_table['Total_Return'].idxmin()\n",
    "    best_return = comparison_table.loc[best_performer, 'Total_Return']\n",
    "    worst_return = comparison_table.loc[worst_performer, 'Total_Return']\n",
    "    \n",
    "    print(f\"\\n📈 PERFORMANCE INSIGHTS:\")\n",
    "    print(f\"   • Best performer: {best_performer} ({best_return:.1f}% total return)\")\n",
    "    print(f\"   • Worst performer: {worst_performer} ({worst_return:.1f}% total return)\")\n",
    "\n",
    "# 2. Volatility insights\n",
    "if not volatility_df.empty:\n",
    "    most_volatile = volatility_df['annualized_volatility'].idxmax()\n",
    "    least_volatile = volatility_df['annualized_volatility'].idxmin()\n",
    "    highest_vol = volatility_df.loc[most_volatile, 'annualized_volatility']\n",
    "    lowest_vol = volatility_df.loc[least_volatile, 'annualized_volatility']\n",
    "    \n",
    "    print(f\"\\n📊 VOLATILITY INSIGHTS:\")\n",
    "    print(f\"   • Most volatile: {most_volatile} ({highest_vol:.1%} annualized)\")\n",
    "    print(f\"   • Least volatile: {least_volatile} ({lowest_vol:.1%} annualized)\")\n",
    "\n",
    "# 3. Correlation insights\n",
    "if 'Bitcoin' in return_corr_matrix.index:\n",
    "    btc_corrs = return_corr_matrix['Bitcoin'].drop('Bitcoin')\n",
    "    highest_corr_crypto = btc_corrs.idxmax()\n",
    "    lowest_corr_crypto = btc_corrs.idxmin()\n",
    "    \n",
    "    print(f\"\\n🔗 CORRELATION INSIGHTS:\")\n",
    "    print(f\"   • Most correlated with Bitcoin: {highest_corr_crypto} ({btc_corrs[highest_corr_crypto]:.3f})\")\n",
    "    print(f\"   • Least correlated with Bitcoin: {lowest_corr_crypto} ({btc_corrs[lowest_corr_crypto]:.3f})\")\n",
    "\n",
    "# 4. Bitcoin dominance insights\n",
    "if 'dominance_df' in locals():\n",
    "    avg_dominance = dominance_df['Bitcoin_Dominance'].mean()\n",
    "    current_dominance = dominance_df['Bitcoin_Dominance'].iloc[-1]\n",
    "    \n",
    "    print(f\"\\n👑 BITCOIN DOMINANCE INSIGHTS:\")\n",
    "    print(f\"   • Average dominance: {avg_dominance:.1f}%\")\n",
    "    print(f\"   • Current dominance: {current_dominance:.1f}%\")\n",
    "    print(f\"   • Trend: {'📈 Increasing' if current_dominance > avg_dominance else '📉 Decreasing'}\")\n",
    "\n",
    "# 5. Model performance insights\n",
    "if not eval_df.empty:\n",
    "    best_model = eval_df.loc[eval_df['MAPE (%)'].idxmin(), 'Model']\n",
    "    best_mape = eval_df['MAPE (%)'].min()\n",
    "    \n",
    "    print(f\"\\n🔮 PREDICTION INSIGHTS:\")\n",
    "    print(f\"   • Best performing model: {best_model}\")\n",
    "    print(f\"   • Best MAPE achieved: {best_mape:.2f}%\")\n",
    "    print(f\"   • Prediction quality: {'🟢 Good' if best_mape < 15 else '🟡 Moderate' if best_mape < 25 else '🔴 Poor'}\")\n",
    "\n",
    "print(f\"\\n🎯 INVESTMENT IMPLICATIONS:\")\n",
    "print(f\"   • Diversification benefits from low correlations\")\n",
    "print(f\"   • High volatility = High risk/reward potential\")\n",
    "print(f\"   • Bitcoin remains dominant but trend is changing\")\n",
    "print(f\"   • Seasonal patterns suggest timing opportunities\")\n",
    "print(f\"   • Predictive models show moderate forecasting ability\")\n",
    "\n",
    "print(\"\\n\" + \"=\" * 60)\n",
    "print(\"📋 Analysis completed successfully! 🚀\")"
   ]
  },
  {
   "cell_type": "markdown",
   "id": "4bfdbd5c",
   "metadata": {},
   "source": [
    "## 📁 Data Export & Cleanup\n",
    "\n",
    "Let's save our processed data and key results for future use."
   ]
  },
  {
   "cell_type": "code",
   "execution_count": null,
   "id": "f637ff86",
   "metadata": {},
   "outputs": [],
   "source": [
    "# Save processed data\n",
    "import os\n",
    "processed_dir = '../data/processed'\n",
    "os.makedirs(processed_dir, exist_ok=True)\n",
    "\n",
    "# Save individual cryptocurrency data\n",
    "for name, df in aligned_crypto_data.items():\n",
    "    filename = f\"{name.lower()}_processed.csv\"\n",
    "    filepath = os.path.join(processed_dir, filename)\n",
    "    df.to_csv(filepath)\n",
    "    print(f\"💾 Saved {name} data to {filename}\")\n",
    "\n",
    "# Save analysis results\n",
    "results_dir = '../reports'\n",
    "os.makedirs(results_dir, exist_ok=True)\n",
    "\n",
    "# Save comparison table\n",
    "comparison_table.to_csv(os.path.join(results_dir, 'cryptocurrency_comparison.csv'))\n",
    "\n",
    "# Save correlation matrices\n",
    "price_corr_matrix.to_csv(os.path.join(results_dir, 'price_correlation_matrix.csv'))\n",
    "return_corr_matrix.to_csv(os.path.join(results_dir, 'return_correlation_matrix.csv'))\n",
    "\n",
    "# Save volatility analysis\n",
    "volatility_df.to_csv(os.path.join(results_dir, 'volatility_analysis.csv'))\n",
    "\n",
    "# Save model evaluation\n",
    "if not eval_df.empty:\n",
    "    eval_df.to_csv(os.path.join(results_dir, 'model_evaluation.csv'), index=False)\n",
    "\n",
    "print(\"\\n✅ All data and results saved successfully!\")"
   ]
  },
  {
   "cell_type": "markdown",
   "id": "c4a3e315",
   "metadata": {},
   "source": [
    "---\n",
    "\n",
    "# 🎉 Analysis Complete!\n",
    "\n",
    "## 📊 What We Accomplished\n",
    "\n",
    "✅ **Data Processing**: Successfully loaded and cleaned 10+ cryptocurrency datasets  \n",
    "✅ **Historical Analysis**: Analyzed price trends and market evolution  \n",
    "✅ **Bitcoin Dominance**: Calculated and visualized Bitcoin's market share  \n",
    "✅ **Volatility Analysis**: Ranked cryptocurrencies by risk levels  \n",
    "✅ **Correlation Study**: Identified relationships between currencies  \n",
    "✅ **Seasonal Patterns**: Discovered timing insights for investments  \n",
    "✅ **Predictive Models**: Built and evaluated forecasting models  \n",
    "✅ **Interactive Viz**: Created dynamic charts for exploration  \n",
    "\n",
    "## 🚀 Next Steps\n",
    "\n",
    "- Real-time data integration via APIs\n",
    "- Advanced ML models (LSTM, Prophet)\n",
    "- Portfolio optimization algorithms\n",
    "- Sentiment analysis integration\n",
    "- Web dashboard deployment\n",
    "\n",
    "---\n",
    "\n",
    "*Thank you for exploring the cryptocurrency market with us! 🌟*"
   ]
  }
 ],
 "metadata": {
  "language_info": {
   "name": "python"
  }
 },
 "nbformat": 4,
 "nbformat_minor": 5
}
